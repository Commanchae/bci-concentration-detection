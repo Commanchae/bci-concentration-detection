{
 "cells": [
  {
   "cell_type": "markdown",
   "metadata": {},
   "source": [
    "# 1. Data Collection"
   ]
  },
  {
   "cell_type": "markdown",
   "metadata": {},
   "source": [
    "## 1.1. Import all required libraries and functions."
   ]
  },
  {
   "cell_type": "code",
   "execution_count": null,
   "metadata": {},
   "outputs": [],
   "source": [
    "import helper"
   ]
  },
  {
   "cell_type": "markdown",
   "metadata": {},
   "source": [
    "## 1.2. Collect Data"
   ]
  },
  {
   "cell_type": "markdown",
   "metadata": {},
   "source": [
    "In the data collection process, we will be collecting samples of 2 seconds each, where the user is thinking of the desired action.\n",
    "\n",
    "We will be using the DataRecorder class from utils.py"
   ]
  },
  {
   "cell_type": "markdown",
   "metadata": {},
   "source": [
    "Parameters"
   ]
  },
  {
   "cell_type": "code",
   "execution_count": null,
   "metadata": {},
   "outputs": [],
   "source": [
    "# Determine trial object.\n",
    "SAMPLING_FREQUENCY = 256\n",
    "recorder = helper.DataRecorder(SAMPLING_FREQUENCY)"
   ]
  },
  {
   "cell_type": "code",
   "execution_count": null,
   "metadata": {},
   "outputs": [],
   "source": [
    "# Define trial parameters\n",
    "# This can be modified to capture other actions within the same experiment.\n",
    "DURATION = 2\n",
    "ITERATIONS = 10\n",
    "USER = 'NAME'\n",
    "ACTION = 'Nothing'"
   ]
  },
  {
   "cell_type": "markdown",
   "metadata": {},
   "source": [
    "The cell below is usually run many times to collect sufficient data. How the workflow goes is that you first define the parameters in the cell above, then you run the record_loop below to collect n (ITERATIONS) datapoints. Now, if you want n more iteration points, you run the cell below again. \n",
    "\n",
    "If you would like to record other actions, such as 'Concentrating', then you could change the ACTION variable in the cell above and re-run both the above cell and the below cell. This would add n datapoints with the new action. Note that all the datapoints are stored in the recorder object."
   ]
  },
  {
   "cell_type": "code",
   "execution_count": 3,
   "metadata": {},
   "outputs": [],
   "source": [
    "recorder.record_loop(duration=DURATION, iterations=ITERATIONS, action=ACTION)"
   ]
  },
  {
   "cell_type": "markdown",
   "metadata": {},
   "source": [
    "## 1.3. Save Data\n",
    "Here, the DataRecorder object will convert our samples and actions into an .npz file containing both data."
   ]
  },
  {
   "cell_type": "code",
   "execution_count": null,
   "metadata": {},
   "outputs": [],
   "source": [
    "recorder.save_sample(save_directory='data')"
   ]
  }
 ],
 "metadata": {
  "kernelspec": {
   "display_name": "venv",
   "language": "python",
   "name": "python3"
  },
  "language_info": {
   "codemirror_mode": {
    "name": "ipython",
    "version": 3
   },
   "file_extension": ".py",
   "mimetype": "text/x-python",
   "name": "python",
   "nbconvert_exporter": "python",
   "pygments_lexer": "ipython3",
   "version": "3.10.6"
  }
 },
 "nbformat": 4,
 "nbformat_minor": 2
}
